{
 "cells": [
  {
   "cell_type": "code",
   "execution_count": 3,
   "metadata": {},
   "outputs": [],
   "source": [
    "from tensorflow.keras.applications import ResNet50\n",
    "from tensorflow.keras.models import Sequential\n",
    "from tensorflow.keras.layers import Dense,Flatten,GlobalAveragePooling2D"
   ]
  },
  {
   "cell_type": "code",
   "execution_count": 7,
   "metadata": {},
   "outputs": [],
   "source": [
    "num_classes=2\n",
    "resnet_weights_path = './input/resnet50/resnet50_weights_tf_dim_ordering_tf_kernels_notop.h5'\n"
   ]
  },
  {
   "cell_type": "code",
   "execution_count": 9,
   "metadata": {},
   "outputs": [],
   "source": [
    "model = Sequential()\n",
    "model.add(ResNet50(include_top=False,pooling='avg',weights = resnet_weights_path))\n",
    "model.add(Dense(num_classes,activation='softmax'))"
   ]
  },
  {
   "cell_type": "code",
   "execution_count": 10,
   "metadata": {},
   "outputs": [],
   "source": [
    "model.layers[0].trainable=False"
   ]
  },
  {
   "cell_type": "code",
   "execution_count": 11,
   "metadata": {},
   "outputs": [],
   "source": [
    "model.compile(optimizer='sgd',loss='categorical_crossentropy',metrics=['accuracy'])"
   ]
  },
  {
   "cell_type": "code",
   "execution_count": 12,
   "metadata": {},
   "outputs": [],
   "source": [
    "from tensorflow.keras.applications.resnet50 import preprocess_input\n",
    "from tensorflow.keras.preprocessing.image import ImageDataGenerator"
   ]
  },
  {
   "cell_type": "code",
   "execution_count": 18,
   "metadata": {},
   "outputs": [
    {
     "name": "stdout",
     "output_type": "stream",
     "text": [
      "Found 220 images belonging to 2 classes.\n",
      "Found 217 images belonging to 2 classes.\n"
     ]
    }
   ],
   "source": [
    "image_size=224\n",
    "data_generator_with_aug = ImageDataGenerator(preprocess_input,horizontal_flip=True,height_shift_range=0.2,width_shift_range=0.2)\n",
    "\n",
    "train_generator = data_generator_with_aug.flow_from_directory(directory='./input/dogs-gone-sideways/images/train',\n",
    "                                                     target_size=(image_size,image_size),\n",
    "                                                     batch_size=10,\n",
    "                                                     class_mode='categorical')\n",
    "val_generator = data_generator.flow_from_directory(directory='./input/dogs-gone-sideways/images/val',\n",
    "                                                     target_size=(image_size,image_size),\n",
    "                                                     class_mode='categorical')"
   ]
  },
  {
   "cell_type": "code",
   "execution_count": 22,
   "metadata": {},
   "outputs": [
    {
     "name": "stdout",
     "output_type": "stream",
     "text": [
      "Epoch 1/3\n",
      "22/22 [==============================] - 46s 2s/step - loss: 0.1627 - accuracy: 0.9364 - val_loss: 0.1995 - val_accuracy: 0.9375\n",
      "Epoch 2/3\n",
      "22/22 [==============================] - 48s 2s/step - loss: 0.1023 - accuracy: 0.9818 - val_loss: 0.1604 - val_accuracy: 0.9375\n",
      "Epoch 3/3\n",
      "22/22 [==============================] - 48s 2s/step - loss: 0.1054 - accuracy: 0.9727 - val_loss: 0.2031 - val_accuracy: 0.8750\n"
     ]
    }
   ],
   "source": [
    "fit_stats = model.fit_generator(train_generator,\n",
    "                                steps_per_epoch=22,\n",
    "                                epochs=3,\n",
    "                                validation_data=val_generator,\n",
    "                                validation_steps=1)"
   ]
  },
  {
   "cell_type": "code",
   "execution_count": null,
   "metadata": {},
   "outputs": [],
   "source": []
  }
 ],
 "metadata": {
  "kernelspec": {
   "display_name": "Python 3",
   "language": "python",
   "name": "python3"
  },
  "language_info": {
   "codemirror_mode": {
    "name": "ipython",
    "version": 3
   },
   "file_extension": ".py",
   "mimetype": "text/x-python",
   "name": "python",
   "nbconvert_exporter": "python",
   "pygments_lexer": "ipython3",
   "version": "3.6.9"
  }
 },
 "nbformat": 4,
 "nbformat_minor": 4
}
